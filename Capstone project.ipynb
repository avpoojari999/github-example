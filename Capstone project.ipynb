{
  "nbformat": 4,
  "nbformat_minor": 0,
  "metadata": {
    "colab": {
      "name": "Untitled0.ipynb",
      "provenance": [],
      "authorship_tag": "ABX9TyOKd6QGACvtkZT3avn62e7o",
      "include_colab_link": true
    },
    "kernelspec": {
      "name": "python3",
      "display_name": "Python 3"
    }
  },
  "cells": [
    {
      "cell_type": "markdown",
      "metadata": {
        "id": "view-in-github",
        "colab_type": "text"
      },
      "source": [
        "<a href=\"https://colab.research.google.com/github/avpoojari999/github-example/blob/master/Untitled0.ipynb\" target=\"_parent\"><img src=\"https://colab.research.google.com/assets/colab-badge.svg\" alt=\"Open In Colab\"/></a>"
      ]
    },
    {
      "cell_type": "markdown",
      "metadata": {
        "id": "KeP1mENshUM6",
        "colab_type": "text"
      },
      "source": [
        "Assignment Requirement:\n",
        "\n",
        "Write some markdown to explain that this notebook will be mainly used for the capstone project.\n",
        "\n",
        "Import the pandas library as pd.\n",
        "\n",
        "Import the Numpy library as np.\n",
        "\n",
        "Print the following the statement: Hello Capstone Project Course!"
      ]
    },
    {
      "cell_type": "markdown",
      "metadata": {
        "id": "25W6Pi8cheYK",
        "colab_type": "text"
      },
      "source": [
        "# This is a coursera capstone project"
      ]
    },
    {
      "cell_type": "code",
      "metadata": {
        "id": "yiGsZ4adhp__",
        "colab_type": "code",
        "colab": {
          "base_uri": "https://localhost:8080/",
          "height": 34
        },
        "outputId": "7cf1f712-4593-4168-f1cc-361010ffbdfc"
      },
      "source": [
        "import pandas as pd\n",
        "import numpy as np\n",
        "print(\"Hello Capstone Project Course!\")"
      ],
      "execution_count": 1,
      "outputs": [
        {
          "output_type": "stream",
          "text": [
            "Hello Capstone Project Course!\n"
          ],
          "name": "stdout"
        }
      ]
    },
    {
      "cell_type": "code",
      "metadata": {
        "id": "Lf7Rumcihw7N",
        "colab_type": "code",
        "colab": {}
      },
      "source": [
        ""
      ],
      "execution_count": 0,
      "outputs": []
    }
  ]
}
